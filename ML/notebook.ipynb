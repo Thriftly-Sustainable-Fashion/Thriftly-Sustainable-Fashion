{
  "cells": [
    {
      "cell_type": "code",
      "execution_count": null,
      "metadata": {
        "id": "DIkluGIw1zk6"
      },
      "outputs": [],
      "source": [
        "import numpy as np\n",
        "import pandas as pd\n",
        "import matplotlib.pyplot as plt\n",
        "import seaborn as sns\n",
        "import os\n",
        "from sklearn.preprocessing import MinMaxScaler\n",
        "from sklearn.model_selection import train_test_split\n",
        "from tensorflow.keras.callbacks import EarlyStopping\n",
        "\n",
        "import tensorflow as tf\n",
        "# import tensorflow_recommenders as tfrs\n",
        "# import tensorflow_datasets as tfds"
      ]
    },
    {
      "cell_type": "code",
      "execution_count": null,
      "metadata": {
        "colab": {
          "base_uri": "https://localhost:8080/"
        },
        "id": "GxE-9gPeQwgv",
        "outputId": "ea571856-79cd-4b6c-f4a8-c48b9141621b"
      },
      "outputs": [
        {
          "output_type": "stream",
          "name": "stdout",
          "text": [
            "Requirement already satisfied: tensorflowjs in /usr/local/lib/python3.10/dist-packages (4.22.0)\n",
            "Requirement already satisfied: flax>=0.7.2 in /usr/local/lib/python3.10/dist-packages (from tensorflowjs) (0.8.5)\n",
            "Requirement already satisfied: importlib_resources>=5.9.0 in /usr/local/lib/python3.10/dist-packages (from tensorflowjs) (6.4.5)\n",
            "Requirement already satisfied: jax>=0.4.13 in /usr/local/lib/python3.10/dist-packages (from tensorflowjs) (0.4.33)\n",
            "Requirement already satisfied: jaxlib>=0.4.13 in /usr/local/lib/python3.10/dist-packages (from tensorflowjs) (0.4.33)\n",
            "Requirement already satisfied: tensorflow<3,>=2.13.0 in /usr/local/lib/python3.10/dist-packages (from tensorflowjs) (2.18.0)\n",
            "Requirement already satisfied: tf-keras>=2.13.0 in /usr/local/lib/python3.10/dist-packages (from tensorflowjs) (2.18.0)\n",
            "Requirement already satisfied: tensorflow-decision-forests>=1.5.0 in /usr/local/lib/python3.10/dist-packages (from tensorflowjs) (1.11.0)\n",
            "Requirement already satisfied: six<2,>=1.16.0 in /usr/local/lib/python3.10/dist-packages (from tensorflowjs) (1.16.0)\n",
            "Requirement already satisfied: tensorflow-hub>=0.16.1 in /usr/local/lib/python3.10/dist-packages (from tensorflowjs) (0.16.1)\n",
            "Requirement already satisfied: packaging~=23.1 in /usr/local/lib/python3.10/dist-packages (from tensorflowjs) (23.2)\n",
            "Requirement already satisfied: numpy>=1.22 in /usr/local/lib/python3.10/dist-packages (from flax>=0.7.2->tensorflowjs) (1.26.4)\n",
            "Requirement already satisfied: msgpack in /usr/local/lib/python3.10/dist-packages (from flax>=0.7.2->tensorflowjs) (1.1.0)\n",
            "Requirement already satisfied: optax in /usr/local/lib/python3.10/dist-packages (from flax>=0.7.2->tensorflowjs) (0.2.4)\n",
            "Requirement already satisfied: orbax-checkpoint in /usr/local/lib/python3.10/dist-packages (from flax>=0.7.2->tensorflowjs) (0.6.4)\n",
            "Requirement already satisfied: tensorstore in /usr/local/lib/python3.10/dist-packages (from flax>=0.7.2->tensorflowjs) (0.1.69)\n",
            "Requirement already satisfied: rich>=11.1 in /usr/local/lib/python3.10/dist-packages (from flax>=0.7.2->tensorflowjs) (13.9.4)\n",
            "Requirement already satisfied: typing-extensions>=4.2 in /usr/local/lib/python3.10/dist-packages (from flax>=0.7.2->tensorflowjs) (4.12.2)\n",
            "Requirement already satisfied: PyYAML>=5.4.1 in /usr/local/lib/python3.10/dist-packages (from flax>=0.7.2->tensorflowjs) (6.0.2)\n",
            "Requirement already satisfied: ml-dtypes>=0.2.0 in /usr/local/lib/python3.10/dist-packages (from jax>=0.4.13->tensorflowjs) (0.4.1)\n",
            "Requirement already satisfied: opt-einsum in /usr/local/lib/python3.10/dist-packages (from jax>=0.4.13->tensorflowjs) (3.4.0)\n",
            "Requirement already satisfied: scipy>=1.10 in /usr/local/lib/python3.10/dist-packages (from jax>=0.4.13->tensorflowjs) (1.13.1)\n",
            "Requirement already satisfied: absl-py>=1.0.0 in /usr/local/lib/python3.10/dist-packages (from tensorflow<3,>=2.13.0->tensorflowjs) (1.4.0)\n",
            "Requirement already satisfied: astunparse>=1.6.0 in /usr/local/lib/python3.10/dist-packages (from tensorflow<3,>=2.13.0->tensorflowjs) (1.6.3)\n",
            "Requirement already satisfied: flatbuffers>=24.3.25 in /usr/local/lib/python3.10/dist-packages (from tensorflow<3,>=2.13.0->tensorflowjs) (24.3.25)\n",
            "Requirement already satisfied: gast!=0.5.0,!=0.5.1,!=0.5.2,>=0.2.1 in /usr/local/lib/python3.10/dist-packages (from tensorflow<3,>=2.13.0->tensorflowjs) (0.6.0)\n",
            "Requirement already satisfied: google-pasta>=0.1.1 in /usr/local/lib/python3.10/dist-packages (from tensorflow<3,>=2.13.0->tensorflowjs) (0.2.0)\n",
            "Requirement already satisfied: libclang>=13.0.0 in /usr/local/lib/python3.10/dist-packages (from tensorflow<3,>=2.13.0->tensorflowjs) (18.1.1)\n",
            "Requirement already satisfied: protobuf!=4.21.0,!=4.21.1,!=4.21.2,!=4.21.3,!=4.21.4,!=4.21.5,<6.0.0dev,>=3.20.3 in /usr/local/lib/python3.10/dist-packages (from tensorflow<3,>=2.13.0->tensorflowjs) (4.25.5)\n",
            "Requirement already satisfied: requests<3,>=2.21.0 in /usr/local/lib/python3.10/dist-packages (from tensorflow<3,>=2.13.0->tensorflowjs) (2.32.3)\n",
            "Requirement already satisfied: setuptools in /usr/local/lib/python3.10/dist-packages (from tensorflow<3,>=2.13.0->tensorflowjs) (75.1.0)\n",
            "Requirement already satisfied: termcolor>=1.1.0 in /usr/local/lib/python3.10/dist-packages (from tensorflow<3,>=2.13.0->tensorflowjs) (2.5.0)\n",
            "Requirement already satisfied: wrapt>=1.11.0 in /usr/local/lib/python3.10/dist-packages (from tensorflow<3,>=2.13.0->tensorflowjs) (1.17.0)\n",
            "Requirement already satisfied: grpcio<2.0,>=1.24.3 in /usr/local/lib/python3.10/dist-packages (from tensorflow<3,>=2.13.0->tensorflowjs) (1.68.1)\n",
            "Requirement already satisfied: tensorboard<2.19,>=2.18 in /usr/local/lib/python3.10/dist-packages (from tensorflow<3,>=2.13.0->tensorflowjs) (2.18.0)\n",
            "Requirement already satisfied: keras>=3.5.0 in /usr/local/lib/python3.10/dist-packages (from tensorflow<3,>=2.13.0->tensorflowjs) (3.5.0)\n",
            "Requirement already satisfied: h5py>=3.11.0 in /usr/local/lib/python3.10/dist-packages (from tensorflow<3,>=2.13.0->tensorflowjs) (3.12.1)\n",
            "Requirement already satisfied: tensorflow-io-gcs-filesystem>=0.23.1 in /usr/local/lib/python3.10/dist-packages (from tensorflow<3,>=2.13.0->tensorflowjs) (0.37.1)\n",
            "Requirement already satisfied: pandas in /usr/local/lib/python3.10/dist-packages (from tensorflow-decision-forests>=1.5.0->tensorflowjs) (2.2.2)\n",
            "Requirement already satisfied: wheel in /usr/local/lib/python3.10/dist-packages (from tensorflow-decision-forests>=1.5.0->tensorflowjs) (0.45.1)\n",
            "Requirement already satisfied: wurlitzer in /usr/local/lib/python3.10/dist-packages (from tensorflow-decision-forests>=1.5.0->tensorflowjs) (3.1.1)\n",
            "Requirement already satisfied: ydf in /usr/local/lib/python3.10/dist-packages (from tensorflow-decision-forests>=1.5.0->tensorflowjs) (0.9.0)\n",
            "Requirement already satisfied: namex in /usr/local/lib/python3.10/dist-packages (from keras>=3.5.0->tensorflow<3,>=2.13.0->tensorflowjs) (0.0.8)\n",
            "Requirement already satisfied: optree in /usr/local/lib/python3.10/dist-packages (from keras>=3.5.0->tensorflow<3,>=2.13.0->tensorflowjs) (0.13.1)\n",
            "Requirement already satisfied: charset-normalizer<4,>=2 in /usr/local/lib/python3.10/dist-packages (from requests<3,>=2.21.0->tensorflow<3,>=2.13.0->tensorflowjs) (3.4.0)\n",
            "Requirement already satisfied: idna<4,>=2.5 in /usr/local/lib/python3.10/dist-packages (from requests<3,>=2.21.0->tensorflow<3,>=2.13.0->tensorflowjs) (3.10)\n",
            "Requirement already satisfied: urllib3<3,>=1.21.1 in /usr/local/lib/python3.10/dist-packages (from requests<3,>=2.21.0->tensorflow<3,>=2.13.0->tensorflowjs) (2.2.3)\n",
            "Requirement already satisfied: certifi>=2017.4.17 in /usr/local/lib/python3.10/dist-packages (from requests<3,>=2.21.0->tensorflow<3,>=2.13.0->tensorflowjs) (2024.8.30)\n",
            "Requirement already satisfied: markdown-it-py>=2.2.0 in /usr/local/lib/python3.10/dist-packages (from rich>=11.1->flax>=0.7.2->tensorflowjs) (3.0.0)\n",
            "Requirement already satisfied: pygments<3.0.0,>=2.13.0 in /usr/local/lib/python3.10/dist-packages (from rich>=11.1->flax>=0.7.2->tensorflowjs) (2.18.0)\n",
            "Requirement already satisfied: markdown>=2.6.8 in /usr/local/lib/python3.10/dist-packages (from tensorboard<2.19,>=2.18->tensorflow<3,>=2.13.0->tensorflowjs) (3.7)\n",
            "Requirement already satisfied: tensorboard-data-server<0.8.0,>=0.7.0 in /usr/local/lib/python3.10/dist-packages (from tensorboard<2.19,>=2.18->tensorflow<3,>=2.13.0->tensorflowjs) (0.7.2)\n",
            "Requirement already satisfied: werkzeug>=1.0.1 in /usr/local/lib/python3.10/dist-packages (from tensorboard<2.19,>=2.18->tensorflow<3,>=2.13.0->tensorflowjs) (3.1.3)\n",
            "Requirement already satisfied: chex>=0.1.87 in /usr/local/lib/python3.10/dist-packages (from optax->flax>=0.7.2->tensorflowjs) (0.1.87)\n",
            "Requirement already satisfied: etils[epy] in /usr/local/lib/python3.10/dist-packages (from optax->flax>=0.7.2->tensorflowjs) (1.11.0)\n",
            "Requirement already satisfied: nest_asyncio in /usr/local/lib/python3.10/dist-packages (from orbax-checkpoint->flax>=0.7.2->tensorflowjs) (1.6.0)\n",
            "Requirement already satisfied: humanize in /usr/local/lib/python3.10/dist-packages (from orbax-checkpoint->flax>=0.7.2->tensorflowjs) (4.11.0)\n",
            "Requirement already satisfied: python-dateutil>=2.8.2 in /usr/local/lib/python3.10/dist-packages (from pandas->tensorflow-decision-forests>=1.5.0->tensorflowjs) (2.8.2)\n",
            "Requirement already satisfied: pytz>=2020.1 in /usr/local/lib/python3.10/dist-packages (from pandas->tensorflow-decision-forests>=1.5.0->tensorflowjs) (2024.2)\n",
            "Requirement already satisfied: tzdata>=2022.7 in /usr/local/lib/python3.10/dist-packages (from pandas->tensorflow-decision-forests>=1.5.0->tensorflowjs) (2024.2)\n",
            "Requirement already satisfied: toolz>=0.9.0 in /usr/local/lib/python3.10/dist-packages (from chex>=0.1.87->optax->flax>=0.7.2->tensorflowjs) (0.12.1)\n",
            "Requirement already satisfied: mdurl~=0.1 in /usr/local/lib/python3.10/dist-packages (from markdown-it-py>=2.2.0->rich>=11.1->flax>=0.7.2->tensorflowjs) (0.1.2)\n",
            "Requirement already satisfied: MarkupSafe>=2.1.1 in /usr/local/lib/python3.10/dist-packages (from werkzeug>=1.0.1->tensorboard<2.19,>=2.18->tensorflow<3,>=2.13.0->tensorflowjs) (3.0.2)\n",
            "Requirement already satisfied: fsspec in /usr/local/lib/python3.10/dist-packages (from etils[epath,epy]->orbax-checkpoint->flax>=0.7.2->tensorflowjs) (2024.10.0)\n",
            "Requirement already satisfied: zipp in /usr/local/lib/python3.10/dist-packages (from etils[epath,epy]->orbax-checkpoint->flax>=0.7.2->tensorflowjs) (3.21.0)\n"
          ]
        }
      ],
      "source": [
        "!pip install tensorflowjs"
      ]
    },
    {
      "cell_type": "code",
      "execution_count": null,
      "metadata": {
        "colab": {
          "base_uri": "https://localhost:8080/"
        },
        "id": "1ZsGkAWrXyvY",
        "outputId": "5877dc97-bf93-41fc-f794-d4dc185a0d59"
      },
      "outputs": [
        {
          "output_type": "stream",
          "name": "stdout",
          "text": [
            "Mounted at /content/drive\n"
          ]
        }
      ],
      "source": [
        "from google.colab import drive\n",
        "drive.mount('/content/drive')"
      ]
    },
    {
      "cell_type": "code",
      "execution_count": null,
      "metadata": {
        "id": "dH7F-jQNaw07"
      },
      "outputs": [],
      "source": [
        "product_df = pd.read_csv(\"/content/drive/MyDrive/Colab Notebooks/data/product.csv\", usecols=range(10))\n",
        "customer_df = pd.read_csv(\"/content/drive/MyDrive/Colab Notebooks/data/customer.csv\")"
      ]
    },
    {
      "cell_type": "code",
      "execution_count": null,
      "metadata": {
        "id": "gbyC8XGHTJm0"
      },
      "outputs": [],
      "source": [
        "click_stream_df = pd.read_csv(\"/content/drive/MyDrive/Colab Notebooks/data/click_stream_new.csv\")\n",
        "transaction_df = pd.read_csv(\"/content/drive/MyDrive/Colab Notebooks/data/transaction_new.csv\")"
      ]
    },
    {
      "cell_type": "markdown",
      "source": [
        "\n",
        "#EDA"
      ],
      "metadata": {
        "id": "lactdc0HERJF"
      }
    },
    {
      "cell_type": "markdown",
      "metadata": {
        "id": "Gv5PBoQFRDDH"
      },
      "source": [
        "#Creating user matrix for recommender system"
      ]
    },
    {
      "cell_type": "markdown",
      "metadata": {
        "id": "6JEOw0hRQOg_"
      },
      "source": [
        "##Joining clickstream with transaction"
      ]
    },
    {
      "cell_type": "markdown",
      "metadata": {
        "id": "K7boOkn8QsQF"
      },
      "source": [
        "###Taking important event for the interaction score calculation"
      ]
    },
    {
      "cell_type": "code",
      "execution_count": null,
      "metadata": {
        "colab": {
          "base_uri": "https://localhost:8080/"
        },
        "id": "cUTDQ_LGdIZi",
        "outputId": "2cbb887e-d846-4d5f-db8b-9a5ae312a914"
      },
      "outputs": [
        {
          "output_type": "execute_result",
          "data": {
            "text/plain": [
              "{'ADD_TO_CART', 'BOOKING', 'ITEM_DETAIL'}"
            ]
          },
          "metadata": {},
          "execution_count": 6
        }
      ],
      "source": [
        "click_stream_filtered = click_stream_df[click_stream_df['event_name'].isin(['ITEM_DETAIL', 'ADD_TO_CART','BOOKING'])]\n",
        "clickstream_with_customer = click_stream_filtered.merge(\n",
        "    transaction_df[['session_id', 'customer_id']],\n",
        "    on='session_id',\n",
        "    how='inner'\n",
        ")\n",
        "set(clickstream_with_customer['event_name'])"
      ]
    },
    {
      "cell_type": "markdown",
      "metadata": {
        "id": "BwIs6e4dQaLz"
      },
      "source": [
        "###Applying the weighted event for interaction score calculation"
      ]
    },
    {
      "cell_type": "code",
      "execution_count": null,
      "metadata": {
        "id": "QpHLxtxfjlYY"
      },
      "outputs": [],
      "source": [
        "event_weights = {'ADD_TO_CART': 3, 'ITEM_DETAIL': 2, 'BOOKING': 4}\n",
        "clickstream_with_customer['interaction_score'] = clickstream_with_customer['event_name'].map(event_weights)"
      ]
    },
    {
      "cell_type": "markdown",
      "metadata": {
        "id": "kZaYd0tmQ6Db"
      },
      "source": [
        "###Aggregating the data by the customer id and product id"
      ]
    },
    {
      "cell_type": "code",
      "execution_count": null,
      "metadata": {
        "id": "v0nB-Lo1kTBB"
      },
      "outputs": [],
      "source": [
        "clickstream_aggregated = clickstream_with_customer.groupby(\n",
        "    ['customer_id', 'product_id'], as_index=False\n",
        ").agg({'interaction_score': 'sum'})"
      ]
    },
    {
      "cell_type": "markdown",
      "metadata": {
        "id": "V9BLFJXMRk_b"
      },
      "source": [
        "**Insights** : Customer who is successfully doing payment (booking event name) are has high interaction score, adding to cart also has high interaction score, but for item detail and click it has low interaction score"
      ]
    },
    {
      "cell_type": "markdown",
      "metadata": {
        "id": "zabwp-DmRbqh"
      },
      "source": [
        "###Adding another table for interaction score calculation which is the quantity"
      ]
    },
    {
      "cell_type": "code",
      "execution_count": null,
      "metadata": {
        "id": "v23yNelPk1OE"
      },
      "outputs": [],
      "source": [
        "transaction_aggregated = transaction_df.groupby(\n",
        "    ['customer_id', 'product_id'], as_index=False\n",
        ").agg({'quantity': 'sum'})"
      ]
    },
    {
      "cell_type": "code",
      "execution_count": null,
      "metadata": {
        "id": "6R9iEhDyl2g0"
      },
      "outputs": [],
      "source": [
        "transaction_aggregated.rename(columns={'quantity': 'interaction_score'}, inplace=True)"
      ]
    },
    {
      "cell_type": "code",
      "execution_count": null,
      "metadata": {
        "id": "RxHuquA-lpUu"
      },
      "outputs": [],
      "source": [
        "combined_interactions = pd.concat([transaction_aggregated, clickstream_aggregated], ignore_index=True)"
      ]
    },
    {
      "cell_type": "code",
      "execution_count": null,
      "metadata": {
        "id": "OXeWHFVdmUlO"
      },
      "outputs": [],
      "source": [
        "final_interactions = combined_interactions.groupby(\n",
        "    ['customer_id', 'product_id'], as_index=False\n",
        ").agg({'interaction_score': 'sum'})"
      ]
    },
    {
      "cell_type": "markdown",
      "source": [
        "###Normalize the interaction score"
      ],
      "metadata": {
        "id": "cKiyL7hsELHB"
      }
    },
    {
      "cell_type": "code",
      "execution_count": null,
      "metadata": {
        "id": "U-hUR7dRmXhE"
      },
      "outputs": [],
      "source": [
        "scaler = MinMaxScaler()\n",
        "final_interactions['interaction_score'] = scaler.fit_transform(final_interactions[['interaction_score']])"
      ]
    },
    {
      "cell_type": "code",
      "execution_count": null,
      "metadata": {
        "id": "pfRDxlU45iuC"
      },
      "outputs": [],
      "source": [
        "train_data, test_data = train_test_split(final_interactions, test_size=0.2, random_state=42)"
      ]
    },
    {
      "cell_type": "code",
      "execution_count": null,
      "metadata": {
        "id": "J_h3OY_Y5pt4"
      },
      "outputs": [],
      "source": [
        "num_customers = final_interactions['customer_id'].nunique()\n",
        "num_products = final_interactions['product_id'].nunique()\n",
        "embedding_dim = 32\n",
        "customer_id_mapping = {id: index for index, id in enumerate(final_interactions['customer_id'].unique())}\n",
        "product_id_mapping = {id: index for index, id in enumerate(final_interactions['product_id'].unique())}"
      ]
    },
    {
      "cell_type": "code",
      "execution_count": null,
      "metadata": {
        "id": "gMtqTUKc2obR"
      },
      "outputs": [],
      "source": [
        "class CustomEarlyStopping(tf.keras.callbacks.Callback):\n",
        "    def __init__(self, threshold):\n",
        "        super().__init__()\n",
        "        self.threshold = threshold\n",
        "\n",
        "    def on_epoch_end(self, epoch, logs=None):\n",
        "        # Check if validation loss is below the threshold\n",
        "        val_loss = logs.get('val_loss')\n",
        "        if val_loss and val_loss <= self.threshold:\n",
        "            print(f\"\\nStopping training as validation loss has reached {val_loss:.5f}, below the threshold {self.threshold}.\")\n",
        "            self.model.stop_training = True\n",
        "\n",
        "# Define the callback with the desired threshold\n",
        "threshold = 0.0055\n",
        "early_stopping_callback = CustomEarlyStopping(threshold=threshold)"
      ]
    },
    {
      "cell_type": "code",
      "execution_count": null,
      "metadata": {
        "colab": {
          "base_uri": "https://localhost:8080/"
        },
        "id": "4JwOJEC0SKjP",
        "outputId": "524a931a-4db4-4d54-938c-e36818eecab4"
      },
      "outputs": [
        {
          "output_type": "stream",
          "name": "stdout",
          "text": [
            "Epoch 1/100\n",
            "\u001b[1m5905/5905\u001b[0m \u001b[32m━━━━━━━━━━━━━━━━━━━━\u001b[0m\u001b[37m\u001b[0m \u001b[1m176s\u001b[0m 29ms/step - loss: 0.0072 - val_loss: 0.0072\n",
            "Epoch 2/100\n",
            "\u001b[1m5905/5905\u001b[0m \u001b[32m━━━━━━━━━━━━━━━━━━━━\u001b[0m\u001b[37m\u001b[0m \u001b[1m199s\u001b[0m 29ms/step - loss: 0.0070 - val_loss: 0.0072\n",
            "Epoch 3/100\n",
            "\u001b[1m5905/5905\u001b[0m \u001b[32m━━━━━━━━━━━━━━━━━━━━\u001b[0m\u001b[37m\u001b[0m \u001b[1m199s\u001b[0m 28ms/step - loss: 0.0068 - val_loss: 0.0072\n",
            "Epoch 4/100\n",
            "\u001b[1m5905/5905\u001b[0m \u001b[32m━━━━━━━━━━━━━━━━━━━━\u001b[0m\u001b[37m\u001b[0m \u001b[1m208s\u001b[0m 29ms/step - loss: 0.0065 - val_loss: 0.0071\n",
            "Epoch 5/100\n",
            "\u001b[1m5905/5905\u001b[0m \u001b[32m━━━━━━━━━━━━━━━━━━━━\u001b[0m\u001b[37m\u001b[0m \u001b[1m200s\u001b[0m 29ms/step - loss: 0.0060 - val_loss: 0.0069\n",
            "Epoch 6/100\n",
            "\u001b[1m5905/5905\u001b[0m \u001b[32m━━━━━━━━━━━━━━━━━━━━\u001b[0m\u001b[37m\u001b[0m \u001b[1m197s\u001b[0m 28ms/step - loss: 0.0053 - val_loss: 0.0064\n",
            "Epoch 7/100\n",
            "\u001b[1m5905/5905\u001b[0m \u001b[32m━━━━━━━━━━━━━━━━━━━━\u001b[0m\u001b[37m\u001b[0m \u001b[1m202s\u001b[0m 28ms/step - loss: 0.0045 - val_loss: 0.0060\n",
            "Epoch 8/100\n",
            "\u001b[1m5905/5905\u001b[0m \u001b[32m━━━━━━━━━━━━━━━━━━━━\u001b[0m\u001b[37m\u001b[0m \u001b[1m187s\u001b[0m 31ms/step - loss: 0.0038 - val_loss: 0.0057\n",
            "Epoch 9/100\n",
            "\u001b[1m5905/5905\u001b[0m \u001b[32m━━━━━━━━━━━━━━━━━━━━\u001b[0m\u001b[37m\u001b[0m \u001b[1m192s\u001b[0m 29ms/step - loss: 0.0033 - val_loss: 0.0056\n",
            "Epoch 10/100\n",
            "\u001b[1m5905/5905\u001b[0m \u001b[32m━━━━━━━━━━━━━━━━━━━━\u001b[0m\u001b[37m\u001b[0m \u001b[1m0s\u001b[0m 29ms/step - loss: 0.0028\n",
            "Stopping training as validation loss has reached 0.00548, below the threshold 0.0055.\n",
            "\u001b[1m5905/5905\u001b[0m \u001b[32m━━━━━━━━━━━━━━━━━━━━\u001b[0m\u001b[37m\u001b[0m \u001b[1m180s\u001b[0m 30ms/step - loss: 0.0028 - val_loss: 0.0055\n"
          ]
        }
      ],
      "source": [
        "class CollaborativeFilteringModel(tf.keras.Model):\n",
        "    def __init__(self, num_customers, num_products, embedding_dim):\n",
        "        super().__init__()\n",
        "        self.customer_embedding = tf.keras.layers.Embedding(num_customers, embedding_dim)\n",
        "        self.product_embedding = tf.keras.layers.Embedding(num_products, embedding_dim)\n",
        "        self.dot_product = tf.keras.layers.Dot(axes=1)\n",
        "\n",
        "    def call(self, inputs):\n",
        "        customer_vec = self.customer_embedding(inputs[0])\n",
        "        product_vec = self.product_embedding(inputs[1])\n",
        "        return self.dot_product([customer_vec, product_vec])\n",
        "\n",
        "model = CollaborativeFilteringModel(num_customers, num_products, embedding_dim)\n",
        "model.compile(optimizer=tf.keras.optimizers.Adam(0.0001), loss='mean_squared_error')\n",
        "\n",
        "# Prepare datasets\n",
        "train_dataset = tf.data.Dataset.from_tensor_slices((\n",
        "    (train_data['customer_id'].map(customer_id_mapping).values, train_data['product_id'].map(product_id_mapping).values),\n",
        "    train_data['interaction_score'].values\n",
        ")).batch(256).shuffle(10000).prefetch(tf.data.AUTOTUNE)\n",
        "\n",
        "test_dataset = tf.data.Dataset.from_tensor_slices((\n",
        "    (test_data['customer_id'].map(customer_id_mapping).values, test_data['product_id'].map(product_id_mapping).values),\n",
        "    test_data['interaction_score'].values\n",
        ")).batch(256).prefetch(tf.data.AUTOTUNE)\n",
        "\n",
        "# Train the model\n",
        "history = model.fit(train_dataset, validation_data=test_dataset, epochs=100, callbacks=[early_stopping_callback])"
      ]
    },
    {
      "cell_type": "markdown",
      "source": [
        "###Generate the recommendation"
      ],
      "metadata": {
        "id": "G7s7c4-2EeKA"
      }
    },
    {
      "cell_type": "code",
      "execution_count": null,
      "metadata": {
        "colab": {
          "base_uri": "https://localhost:8080/"
        },
        "id": "VMTl2QlKVUaT",
        "outputId": "be004041-e357-4701-dc3a-6c710a82aa5f"
      },
      "outputs": [
        {
          "output_type": "stream",
          "name": "stdout",
          "text": [
            "\u001b[1m1389/1389\u001b[0m \u001b[32m━━━━━━━━━━━━━━━━━━━━\u001b[0m\u001b[37m\u001b[0m \u001b[1m4s\u001b[0m 3ms/step\n",
            "[3 3 3 ... 3 3 3]\n",
            "Top 10 recommended products for customer 3: [ 7676 13068 42888 34293 29631 34075 20757 33377 13297 28064]\n"
          ]
        }
      ],
      "source": [
        "def recommend_for_customer(customer_id, num_recommendations=10):\n",
        "    all_product_ids = np.arange(num_products)\n",
        "\n",
        "    customer_ids = np.full_like(all_product_ids, customer_id)\n",
        "\n",
        "    product_ids = all_product_ids\n",
        "    predictions = model.predict([customer_ids, product_ids])\n",
        "\n",
        "    top_indices = np.argsort(predictions.flatten())[::-1]\n",
        "\n",
        "    top_product_ids = product_ids[top_indices][:num_recommendations]\n",
        "\n",
        "\n",
        "    return top_product_ids\n",
        "\n",
        "recommended_products = recommend_for_customer(3, num_recommendations=10)\n",
        "print(\"Top 10 recommended products for customer 3:\", recommended_products)\n"
      ]
    },
    {
      "cell_type": "markdown",
      "source": [
        "###Saving the model in tfjs"
      ],
      "metadata": {
        "id": "35yTYALoEgX0"
      }
    },
    {
      "cell_type": "code",
      "source": [
        "import tensorflowjs as tfjs\n",
        "\n",
        "saved_model_path = \"/content/drive/MyDrive/Colab Notebooks/models/collaborative_filtering_model.keras\" # Added .keras extension\n",
        "model.save(saved_model_path)\n",
        "\n",
        "tfjs_target_dir = \"/content/drive/MyDrive/Colab Notebooks/models/tfjs_collaborative_filtering_model\"\n",
        "tfjs.converters.save_keras_model(model, tfjs_target_dir)\n",
        "\n",
        "print(f\"Model saved for TensorFlow.js at: {tfjs_target_dir}\")"
      ],
      "metadata": {
        "colab": {
          "base_uri": "https://localhost:8080/",
          "height": 257
        },
        "id": "6w_wmk7HCu6l",
        "outputId": "7ae55d61-7223-46a1-9d04-de2c7dbd9151"
      },
      "execution_count": null,
      "outputs": [
        {
          "output_type": "display_data",
          "data": {
            "text/plain": [
              "<IPython.core.display.HTML object>"
            ],
            "text/html": [
              "\n",
              "<p style=\"margin:0px;\">🌲 Try <a href=\"https://ydf.readthedocs.io/en/latest/\" target=\"_blank\">YDF</a>, the successor of\n",
              "    <a href=\"https://www.tensorflow.org/decision_forests\" target=\"_blank\">TensorFlow\n",
              "        Decision Forests</a> using the same algorithms but with more features and faster\n",
              "    training!\n",
              "</p>\n",
              "<div style=\"display: flex; flex-wrap: wrap; margin:5px;max-width: 880px;\">\n",
              "    <div style=\"flex: 1; border-radius: 10px; background-color: F0F0F0; padding: 5px;\">\n",
              "        <p\n",
              "            style=\"font-weight: bold; margin:0px;text-align: center;border-bottom: 1px solid #C0C0C0;margin-bottom: 4px;\">\n",
              "            Old code</p>\n",
              "        <pre style=\"overflow-wrap: anywhere; overflow: auto; margin:0px;font-size: 9pt;\">\n",
              "import tensorflow_decision_forests as tfdf\n",
              "\n",
              "tf_ds = tfdf.keras.pd_dataframe_to_tf_dataset(ds, label=\"l\")\n",
              "model = tfdf.keras.RandomForestModel(label=\"l\")\n",
              "model.fit(tf_ds)\n",
              "</pre>\n",
              "    </div>\n",
              "    <div style=\"width: 5px;\"></div>\n",
              "    <div style=\"flex: 1; border-radius: 10px; background-color: F0F0F0; padding: 5px;\">\n",
              "        <p\n",
              "            style=\"font-weight: bold; margin:0px;text-align: center;border-bottom: 1px solid #C0C0C0;margin-bottom: 4px;\">\n",
              "            New code</p>\n",
              "        <pre style=\"overflow-wrap: anywhere; overflow: auto; margin:0px;font-size: 9pt;\">\n",
              "import ydf\n",
              "\n",
              "model = ydf.RandomForestLearner(label=\"l\").train(ds)\n",
              "</pre>\n",
              "    </div>\n",
              "</div>\n",
              "<p style=\"margin:0px;font-size: 9pt;\">(Learn more in the <a\n",
              "        href=\"https://ydf.readthedocs.io/en/latest/tutorial/migrating_to_ydf/\" target=\"_blank\">migration\n",
              "        guide</a>)</p>\n"
            ]
          },
          "metadata": {}
        },
        {
          "output_type": "stream",
          "name": "stderr",
          "text": [
            "WARNING:absl:You are saving your model as an HDF5 file via `model.save()` or `keras.saving.save_model(model)`. This file format is considered legacy. We recommend using instead the native Keras format, e.g. `model.save('my_model.keras')` or `keras.saving.save_model(model, 'my_model.keras')`. \n"
          ]
        },
        {
          "output_type": "stream",
          "name": "stdout",
          "text": [
            "failed to lookup keras version from the file,\n",
            "    this is likely a weight only file\n",
            "Model saved for TensorFlow.js at: /content/drive/MyDrive/Colab Notebooks/models/tfjs_collaborative_filtering_model\n"
          ]
        }
      ]
    },
    {
      "cell_type": "markdown",
      "source": [
        "###Analyzing the loss for validation and train test"
      ],
      "metadata": {
        "id": "O66s3OtZEjKp"
      }
    },
    {
      "cell_type": "code",
      "execution_count": null,
      "metadata": {
        "colab": {
          "base_uri": "https://localhost:8080/",
          "height": 564
        },
        "id": "n41i2whWSOvt",
        "outputId": "6596624d-205e-43f1-aa13-3649c1b6818e"
      },
      "outputs": [
        {
          "output_type": "display_data",
          "data": {
            "text/plain": [
              "<Figure size 1000x600 with 1 Axes>"
            ],
            "image/png": "[encoded data removed]"
          },
          "metadata": {}
        }
      ],
      "source": [
        "plt.figure(figsize=(10, 6))\n",
        "plt.plot(history.history['loss'][:5], label='Training Loss', marker='o')\n",
        "plt.plot(history.history['val_loss'][:5], label='Validation Loss', marker='o')\n",
        "plt.title('Training and Validation Loss')\n",
        "plt.xlabel('Epochs')\n",
        "plt.ylabel('Loss')\n",
        "plt.legend()\n",
        "plt.grid(True)\n",
        "plt.show()"
      ]
    },
    {
      "cell_type": "code",
      "source": [
        "history.history"
      ],
      "metadata": {
        "colab": {
          "base_uri": "https://localhost:8080/"
        },
        "id": "CjfvFHoIgyun",
        "outputId": "8dcd3981-a1d7-4d80-b79c-328dd29bb0af"
      },
      "execution_count": null,
      "outputs": [
        {
          "output_type": "execute_result",
          "data": {
            "text/plain": [
              "{'loss': [0.007229878567159176,\n",
              "  0.007018148899078369,\n",
              "  0.006760060787200928,\n",
              "  0.006401566322892904,\n",
              "  0.005866761785000563,\n",
              "  0.005153872538357973,\n",
              "  0.004411728587001562,\n",
              "  0.003766868729144335,\n",
              "  0.0032326113432645798,\n",
              "  0.002782464027404785],\n",
              " 'val_loss': [0.0072201918810606,\n",
              "  0.007223209366202354,\n",
              "  0.007214212324470282,\n",
              "  0.007130580022931099,\n",
              "  0.006863611284643412,\n",
              "  0.006432713475078344,\n",
              "  0.006017055828124285,\n",
              "  0.005725420545786619,\n",
              "  0.005556683521717787,\n",
              "  0.005477130878716707]}"
            ]
          },
          "metadata": {},
          "execution_count": 25
        }
      ]
    },
    {
      "cell_type": "code",
      "source": [
        "model.evaluate(test_dataset)"
      ],
      "metadata": {
        "colab": {
          "base_uri": "https://localhost:8080/"
        },
        "id": "xuCoDMBCkIP0",
        "outputId": "82292be2-f0d6-43cc-e910-973505e2c106"
      },
      "execution_count": null,
      "outputs": [
        {
          "output_type": "stream",
          "name": "stdout",
          "text": [
            "\u001b[1m1477/1477\u001b[0m \u001b[32m━━━━━━━━━━━━━━━━━━━━\u001b[0m\u001b[37m\u001b[0m \u001b[1m2s\u001b[0m 2ms/step - loss: 0.0056\n"
          ]
        },
        {
          "output_type": "execute_result",
          "data": {
            "text/plain": [
              "0.005477130878716707"
            ]
          },
          "metadata": {},
          "execution_count": 35
        }
      ]
    },
    {
      "cell_type": "markdown",
      "source": [
        "###Using Neural Network Collaborative Filterinng"
      ],
      "metadata": {
        "id": "1Tl8SLCq6IPu"
      }
    },
    {
      "cell_type": "code",
      "source": [
        "class NeuralCollaborativeFilteringModel(tf.keras.Model):\n",
        "    def __init__(self, num_customers, num_products, embedding_dim):\n",
        "        super().__init__()\n",
        "        self.customer_embedding = tf.keras.layers.Embedding(num_customers, embedding_dim)\n",
        "        self.product_embedding = tf.keras.layers.Embedding(num_products, embedding_dim)\n",
        "        self.dense = tf.keras.Sequential([\n",
        "            tf.keras.layers.Dense(128, activation='relu'),\n",
        "            tf.keras.layers.Dropout(0.2),\n",
        "            tf.keras.layers.Dense(64, activation='relu'),\n",
        "            tf.keras.layers.Dropout(0.2),\n",
        "            tf.keras.layers.Dense(1, activation='sigmoid')\n",
        "        ])\n",
        "\n",
        "    def call(self, inputs):\n",
        "        customer_vec = self.customer_embedding(inputs[0])\n",
        "        product_vec = self.product_embedding(inputs[1])\n",
        "        x = tf.concat([customer_vec, product_vec], axis=-1)\n",
        "        return self.dense(x)\n",
        "model2 = NeuralCollaborativeFilteringModel(num_customers, num_products, embedding_dim)\n",
        "model2.compile(optimizer=tf.keras.optimizers.Adam(0.0001), loss='mean_squared_error')\n",
        "\n",
        "# Prepare datasets\n",
        "train_dataset2 = tf.data.Dataset.from_tensor_slices((\n",
        "    (train_data['customer_id'].map(customer_id_mapping).values, train_data['product_id'].map(product_id_mapping).values),\n",
        "    train_data['interaction_score'].values\n",
        ")).batch(256).shuffle(10000).prefetch(tf.data.AUTOTUNE)\n",
        "\n",
        "test_dataset2 = tf.data.Dataset.from_tensor_slices((\n",
        "    (test_data['customer_id'].map(customer_id_mapping).values, test_data['product_id'].map(product_id_mapping).values),\n",
        "    test_data['interaction_score'].values\n",
        ")).batch(256).prefetch(tf.data.AUTOTUNE)\n",
        "\n",
        "\n",
        "early_stopping = EarlyStopping(\n",
        "    monitor='val_loss',  # Metric to monitor\n",
        "    patience=3,          # Number of epochs with no improvement after which training stops\n",
        "    restore_best_weights=True  # Restore model weights from the epoch with the best value of the monitored metric\n",
        ")\n",
        "# Train the model\n",
        "history2 = model2.fit(train_dataset2, validation_data=test_dataset2, epochs=100, callbacks=[early_stopping])"
      ],
      "metadata": {
        "colab": {
          "base_uri": "https://localhost:8080/"
        },
        "id": "0WhLLs0_knTm",
        "outputId": "807ae460-ab4b-4be2-bf3a-806dc7a5cf47"
      },
      "execution_count": null,
      "outputs": [
        {
          "output_type": "stream",
          "name": "stdout",
          "text": [
            "Epoch 1/100\n",
            "\u001b[1m5905/5905\u001b[0m \u001b[32m━━━━━━━━━━━━━━━━━━━━\u001b[0m\u001b[37m\u001b[0m \u001b[1m222s\u001b[0m 36ms/step - loss: 0.0299 - val_loss: 0.0039\n",
            "Epoch 2/100\n",
            "\u001b[1m5905/5905\u001b[0m \u001b[32m━━━━━━━━━━━━━━━━━━━━\u001b[0m\u001b[37m\u001b[0m \u001b[1m239s\u001b[0m 32ms/step - loss: 0.0037 - val_loss: 0.0038\n",
            "Epoch 3/100\n",
            "\u001b[1m5905/5905\u001b[0m \u001b[32m━━━━━━━━━━━━━━━━━━━━\u001b[0m\u001b[37m\u001b[0m \u001b[1m195s\u001b[0m 31ms/step - loss: 0.0035 - val_loss: 0.0038\n",
            "Epoch 4/100\n",
            "\u001b[1m5905/5905\u001b[0m \u001b[32m━━━━━━━━━━━━━━━━━━━━\u001b[0m\u001b[37m\u001b[0m \u001b[1m189s\u001b[0m 31ms/step - loss: 0.0034 - val_loss: 0.0039\n",
            "Epoch 5/100\n",
            "\u001b[1m5905/5905\u001b[0m \u001b[32m━━━━━━━━━━━━━━━━━━━━\u001b[0m\u001b[37m\u001b[0m \u001b[1m187s\u001b[0m 31ms/step - loss: 0.0033 - val_loss: 0.0039\n"
          ]
        }
      ]
    },
    {
      "cell_type": "code",
      "source": [
        "def recommend_for_customer2(customer_id, num_recommendations=10):\n",
        "    all_product_ids = np.arange(num_products)\n",
        "\n",
        "    customer_ids = np.full_like(all_product_ids, customer_id)\n",
        "\n",
        "    product_ids = all_product_ids\n",
        "    predictions = model2.predict([customer_ids, product_ids])\n",
        "\n",
        "    top_indices = np.argsort(predictions.flatten())[::-1]\n",
        "\n",
        "    top_product_ids = product_ids[top_indices][:num_recommendations]\n",
        "\n",
        "\n",
        "    return top_product_ids\n",
        "\n",
        "recommended_products = recommend_for_customer2(3, num_recommendations=10)\n",
        "print(\"Top 10 recommended products for customer 3:\", recommended_products)\n"
      ],
      "metadata": {
        "colab": {
          "base_uri": "https://localhost:8080/"
        },
        "id": "jz5aEKZCm8mu",
        "outputId": "a3b10a84-054b-47cf-d78c-b7d0d2d55444"
      },
      "execution_count": null,
      "outputs": [
        {
          "output_type": "stream",
          "name": "stdout",
          "text": [
            "\u001b[1m1389/1389\u001b[0m \u001b[32m━━━━━━━━━━━━━━━━━━━━\u001b[0m\u001b[37m\u001b[0m \u001b[1m3s\u001b[0m 2ms/step\n",
            "Top 10 recommended products for customer 3: [11827 31509 38460  4063 36868 39765 15318 39450 42087 14886]\n"
          ]
        }
      ]
    },
    {
      "cell_type": "code",
      "source": [
        "plt.figure(figsize=(10, 6))\n",
        "plt.plot(history2.history['loss'], label='Training Loss', marker='o')\n",
        "plt.plot(history2.history['val_loss'], label='Validation Loss', marker='o')\n",
        "plt.title('Training and Validation Loss')\n",
        "plt.xlabel('Epochs')\n",
        "plt.ylabel('Loss')\n",
        "plt.legend()\n",
        "plt.grid(True)\n",
        "plt.show()"
      ],
      "metadata": {
        "colab": {
          "base_uri": "https://localhost:8080/",
          "height": 564
        },
        "id": "mOaOzN5snuJr",
        "outputId": "3f09a420-d705-4040-e5ee-c6af54586ee0"
      },
      "execution_count": null,
      "outputs": [
        {
          "output_type": "display_data",
          "data": {
            "text/plain": [
              "<Figure size 1000x600 with 1 Axes>"
            ],
            "image/png": "[encoded data removed]"
          },
          "metadata": {}
        }
      ]
    },
    {
      "cell_type": "markdown",
      "source": [
        "###Combining NLP with Colaborative filtering"
      ],
      "metadata": {
        "id": "gb7mmfp77DMB"
      }
    },
    {
      "cell_type": "code",
      "source": [
        "click_stream_df.columns"
      ],
      "metadata": {
        "colab": {
          "base_uri": "https://localhost:8080/"
        },
        "id": "Htk9tbom40rC",
        "outputId": "fe4f2220-3c8e-4263-908f-5f85e9f7ace1"
      },
      "execution_count": null,
      "outputs": [
        {
          "output_type": "execute_result",
          "data": {
            "text/plain": [
              "Index(['session_id', 'event_name', 'event_time', 'event_id', 'traffic_source',\n",
              "       'product_id', 'quantity', 'item_price', 'payment_status',\n",
              "       'search_keywords', 'promo_code', 'promo_amount'],\n",
              "      dtype='object')"
            ]
          },
          "metadata": {},
          "execution_count": 53
        }
      ]
    },
    {
      "cell_type": "code",
      "source": [
        "product_df.columns"
      ],
      "metadata": {
        "colab": {
          "base_uri": "https://localhost:8080/"
        },
        "id": "Gdbcr4a349Ev",
        "outputId": "b4eb2063-bc94-4321-956d-4152ea35f70d"
      },
      "execution_count": null,
      "outputs": [
        {
          "output_type": "execute_result",
          "data": {
            "text/plain": [
              "Index(['id', 'gender', 'masterCategory', 'subCategory', 'articleType',\n",
              "       'baseColour', 'season', 'year', 'usage', 'productDisplayName'],\n",
              "      dtype='object')"
            ]
          },
          "metadata": {},
          "execution_count": 54
        }
      ]
    },
    {
      "cell_type": "code",
      "source": [
        "!pip install tensorflow_text tensorflow_hub"
      ],
      "metadata": {
        "colab": {
          "base_uri": "https://localhost:8080/"
        },
        "id": "hds4Zvlw5gcy",
        "outputId": "992cafc2-379b-4d50-dea0-291cfff30d44"
      },
      "execution_count": null,
      "outputs": [
        {
          "output_type": "stream",
          "name": "stdout",
          "text": [
            "Collecting tensorflow_text\n",
            "  Downloading tensorflow_text-2.18.0-cp310-cp310-manylinux_2_17_x86_64.manylinux2014_x86_64.whl.metadata (1.8 kB)\n",
            "Requirement already satisfied: tensorflow_hub in /usr/local/lib/python3.10/dist-packages (0.16.1)\n",
            "Requirement already satisfied: tensorflow<2.19,>=2.18.0 in /usr/local/lib/python3.10/dist-packages (from tensorflow_text) (2.18.0)\n",
            "Requirement already satisfied: numpy>=1.12.0 in /usr/local/lib/python3.10/dist-packages (from tensorflow_hub) (1.26.4)\n",
            "Requirement already satisfied: protobuf>=3.19.6 in /usr/local/lib/python3.10/dist-packages (from tensorflow_hub) (4.25.5)\n",
            "Requirement already satisfied: tf-keras>=2.14.1 in /usr/local/lib/python3.10/dist-packages (from tensorflow_hub) (2.18.0)\n",
            "Requirement already satisfied: absl-py>=1.0.0 in /usr/local/lib/python3.10/dist-packages (from tensorflow<2.19,>=2.18.0->tensorflow_text) (1.4.0)\n",
            "Requirement already satisfied: astunparse>=1.6.0 in /usr/local/lib/python3.10/dist-packages (from tensorflow<2.19,>=2.18.0->tensorflow_text) (1.6.3)\n",
            "Requirement already satisfied: flatbuffers>=24.3.25 in /usr/local/lib/python3.10/dist-packages (from tensorflow<2.19,>=2.18.0->tensorflow_text) (24.3.25)\n",
            "Requirement already satisfied: gast!=0.5.0,!=0.5.1,!=0.5.2,>=0.2.1 in /usr/local/lib/python3.10/dist-packages (from tensorflow<2.19,>=2.18.0->tensorflow_text) (0.6.0)\n",
            "Requirement already satisfied: google-pasta>=0.1.1 in /usr/local/lib/python3.10/dist-packages (from tensorflow<2.19,>=2.18.0->tensorflow_text) (0.2.0)\n",
            "Requirement already satisfied: libclang>=13.0.0 in /usr/local/lib/python3.10/dist-packages (from tensorflow<2.19,>=2.18.0->tensorflow_text) (18.1.1)\n",
            "Requirement already satisfied: opt-einsum>=2.3.2 in /usr/local/lib/python3.10/dist-packages (from tensorflow<2.19,>=2.18.0->tensorflow_text) (3.4.0)\n",
            "Requirement already satisfied: packaging in /usr/local/lib/python3.10/dist-packages (from tensorflow<2.19,>=2.18.0->tensorflow_text) (23.2)\n",
            "Requirement already satisfied: requests<3,>=2.21.0 in /usr/local/lib/python3.10/dist-packages (from tensorflow<2.19,>=2.18.0->tensorflow_text) (2.32.3)\n",
            "Requirement already satisfied: setuptools in /usr/local/lib/python3.10/dist-packages (from tensorflow<2.19,>=2.18.0->tensorflow_text) (75.1.0)\n",
            "Requirement already satisfied: six>=1.12.0 in /usr/local/lib/python3.10/dist-packages (from tensorflow<2.19,>=2.18.0->tensorflow_text) (1.16.0)\n",
            "Requirement already satisfied: termcolor>=1.1.0 in /usr/local/lib/python3.10/dist-packages (from tensorflow<2.19,>=2.18.0->tensorflow_text) (2.5.0)\n",
            "Requirement already satisfied: typing-extensions>=3.6.6 in /usr/local/lib/python3.10/dist-packages (from tensorflow<2.19,>=2.18.0->tensorflow_text) (4.12.2)\n",
            "Requirement already satisfied: wrapt>=1.11.0 in /usr/local/lib/python3.10/dist-packages (from tensorflow<2.19,>=2.18.0->tensorflow_text) (1.17.0)\n",
            "Requirement already satisfied: grpcio<2.0,>=1.24.3 in /usr/local/lib/python3.10/dist-packages (from tensorflow<2.19,>=2.18.0->tensorflow_text) (1.68.1)\n",
            "Requirement already satisfied: tensorboard<2.19,>=2.18 in /usr/local/lib/python3.10/dist-packages (from tensorflow<2.19,>=2.18.0->tensorflow_text) (2.18.0)\n",
            "Requirement already satisfied: keras>=3.5.0 in /usr/local/lib/python3.10/dist-packages (from tensorflow<2.19,>=2.18.0->tensorflow_text) (3.5.0)\n",
            "Requirement already satisfied: h5py>=3.11.0 in /usr/local/lib/python3.10/dist-packages (from tensorflow<2.19,>=2.18.0->tensorflow_text) (3.12.1)\n",
            "Requirement already satisfied: ml-dtypes<0.5.0,>=0.4.0 in /usr/local/lib/python3.10/dist-packages (from tensorflow<2.19,>=2.18.0->tensorflow_text) (0.4.1)\n",
            "Requirement already satisfied: tensorflow-io-gcs-filesystem>=0.23.1 in /usr/local/lib/python3.10/dist-packages (from tensorflow<2.19,>=2.18.0->tensorflow_text) (0.37.1)\n",
            "Requirement already satisfied: wheel<1.0,>=0.23.0 in /usr/local/lib/python3.10/dist-packages (from astunparse>=1.6.0->tensorflow<2.19,>=2.18.0->tensorflow_text) (0.45.1)\n",
            "Requirement already satisfied: rich in /usr/local/lib/python3.10/dist-packages (from keras>=3.5.0->tensorflow<2.19,>=2.18.0->tensorflow_text) (13.9.4)\n",
            "Requirement already satisfied: namex in /usr/local/lib/python3.10/dist-packages (from keras>=3.5.0->tensorflow<2.19,>=2.18.0->tensorflow_text) (0.0.8)\n",
            "Requirement already satisfied: optree in /usr/local/lib/python3.10/dist-packages (from keras>=3.5.0->tensorflow<2.19,>=2.18.0->tensorflow_text) (0.13.1)\n",
            "Requirement already satisfied: charset-normalizer<4,>=2 in /usr/local/lib/python3.10/dist-packages (from requests<3,>=2.21.0->tensorflow<2.19,>=2.18.0->tensorflow_text) (3.4.0)\n",
            "Requirement already satisfied: idna<4,>=2.5 in /usr/local/lib/python3.10/dist-packages (from requests<3,>=2.21.0->tensorflow<2.19,>=2.18.0->tensorflow_text) (3.10)\n",
            "Requirement already satisfied: urllib3<3,>=1.21.1 in /usr/local/lib/python3.10/dist-packages (from requests<3,>=2.21.0->tensorflow<2.19,>=2.18.0->tensorflow_text) (2.2.3)\n",
            "Requirement already satisfied: certifi>=2017.4.17 in /usr/local/lib/python3.10/dist-packages (from requests<3,>=2.21.0->tensorflow<2.19,>=2.18.0->tensorflow_text) (2024.8.30)\n",
            "Requirement already satisfied: markdown>=2.6.8 in /usr/local/lib/python3.10/dist-packages (from tensorboard<2.19,>=2.18->tensorflow<2.19,>=2.18.0->tensorflow_text) (3.7)\n",
            "Requirement already satisfied: tensorboard-data-server<0.8.0,>=0.7.0 in /usr/local/lib/python3.10/dist-packages (from tensorboard<2.19,>=2.18->tensorflow<2.19,>=2.18.0->tensorflow_text) (0.7.2)\n",
            "Requirement already satisfied: werkzeug>=1.0.1 in /usr/local/lib/python3.10/dist-packages (from tensorboard<2.19,>=2.18->tensorflow<2.19,>=2.18.0->tensorflow_text) (3.1.3)\n",
            "Requirement already satisfied: MarkupSafe>=2.1.1 in /usr/local/lib/python3.10/dist-packages (from werkzeug>=1.0.1->tensorboard<2.19,>=2.18->tensorflow<2.19,>=2.18.0->tensorflow_text) (3.0.2)\n",
            "Requirement already satisfied: markdown-it-py>=2.2.0 in /usr/local/lib/python3.10/dist-packages (from rich->keras>=3.5.0->tensorflow<2.19,>=2.18.0->tensorflow_text) (3.0.0)\n",
            "Requirement already satisfied: pygments<3.0.0,>=2.13.0 in /usr/local/lib/python3.10/dist-packages (from rich->keras>=3.5.0->tensorflow<2.19,>=2.18.0->tensorflow_text) (2.18.0)\n",
            "Requirement already satisfied: mdurl~=0.1 in /usr/local/lib/python3.10/dist-packages (from markdown-it-py>=2.2.0->rich->keras>=3.5.0->tensorflow<2.19,>=2.18.0->tensorflow_text) (0.1.2)\n",
            "Downloading tensorflow_text-2.18.0-cp310-cp310-manylinux_2_17_x86_64.manylinux2014_x86_64.whl (5.2 MB)\n",
            "\u001b[2K   \u001b[90m━━━━━━━━━━━━━━━━━━━━━━━━━━━━━━━━━━━━━━━━\u001b[0m \u001b[32m5.2/5.2 MB\u001b[0m \u001b[31m12.3 MB/s\u001b[0m eta \u001b[36m0:00:00\u001b[0m\n",
            "\u001b[?25hInstalling collected packages: tensorflow_text\n",
            "Successfully installed tensorflow_text-2.18.0\n"
          ]
        }
      ]
    },
    {
      "cell_type": "code",
      "source": [
        "event_weights2 = {\n",
        "    \"SEARCH\": 1,\n",
        "    \"ITEM_DETAIL\": 2,\n",
        "    \"ADD_TO_CART\": 3,\n",
        "    \"BOOKING\": 4\n",
        "}\n",
        "\n",
        "click_stream_filtered2 = click_stream_df[click_stream_df['event_name'].isin(event_weights.keys())]\n",
        "\n",
        "click_stream_filtered2['interaction_score'] = click_stream_filtered['event_name'].map(event_weights)\n",
        "\n",
        "clickstream_with_customer2 = click_stream_filtered2.merge(\n",
        "    transaction_df[['session_id', 'customer_id']],\n",
        "    on='session_id',\n",
        "    how='inner'\n",
        ")\n",
        "\n",
        "clickstream_aggregated2 = clickstream_with_customer2.groupby(\n",
        "    ['customer_id', 'product_id'], as_index=False\n",
        ").agg({'interaction_score': 'sum'})\n"
      ],
      "metadata": {
        "id": "crFyLnHZ5B6U"
      },
      "execution_count": null,
      "outputs": []
    },
    {
      "cell_type": "code",
      "source": [
        "transaction_aggregated2 = transaction_df.groupby(\n",
        "    ['customer_id', 'product_id'], as_index=False\n",
        ").agg({'quantity': 'sum'})\n",
        "\n",
        "transaction_aggregated2.rename(columns={'quantity': 'interaction_score'}, inplace=True)\n",
        "\n",
        "combined_interactions2 = pd.concat([transaction_aggregated2, clickstream_aggregated2], ignore_index=True)\n",
        "\n",
        "final_interactions2 = combined_interactions2.groupby(\n",
        "    ['customer_id', 'product_id'], as_index=False\n",
        ").agg({'interaction_score': 'sum'})\n",
        "\n",
        "scaler = MinMaxScaler()\n",
        "final_interactions2['interaction_score'] = scaler.fit_transform(final_interactions2[['interaction_score']])\n"
      ],
      "metadata": {
        "id": "pbDKgiHj6n-8"
      },
      "execution_count": null,
      "outputs": []
    }
  ],
  "metadata": {
    "colab": {
      "provenance": [],
      "collapsed_sections": [
        "K7boOkn8QsQF",
        "BwIs6e4dQaLz",
        "kZaYd0tmQ6Db",
        "zabwp-DmRbqh"
      ],
      "toc_visible": true
    },
    "kernelspec": {
      "display_name": "Python 3",
      "name": "python3"
    },
    "language_info": {
      "name": "python"
    }
  },
  "nbformat": 4,
  "nbformat_minor": 0
}